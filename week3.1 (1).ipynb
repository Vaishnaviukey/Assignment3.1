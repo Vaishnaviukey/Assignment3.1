{
 "cells": [
  {
   "cell_type": "markdown",
   "id": "b653fd7c-8393-4a7e-8177-4f9aeff4e355",
   "metadata": {},
   "source": [
    "## Q1. Which keyword is used to create a function? Create a function to return a list of odd numbers in the range of 1 to 25."
   ]
  },
  {
   "cell_type": "code",
   "execution_count": 1,
   "id": "9620dc1b-e53d-4c42-a431-d86dd7ca449a",
   "metadata": {},
   "outputs": [],
   "source": [
    "l = [1,2,3,4,5,6,7,8,9,10,11,12,13,14,15,16,17,18,19,20,21,22,23,24,25]\n",
    "def function(l): #Which keyword is used to create a function\n",
    "    l_odd = []\n",
    "    for i in l :\n",
    "        if i%2 != 0:\n",
    "            l_odd.append(i)\n",
    "    return l_odd"
   ]
  },
  {
   "cell_type": "code",
   "execution_count": 2,
   "id": "c751f6f6-e6cc-4310-9f76-41e6d181895c",
   "metadata": {},
   "outputs": [
    {
     "data": {
      "text/plain": [
       "[1, 3, 5, 7, 9, 11, 13, 15, 17, 19, 21, 23, 25]"
      ]
     },
     "execution_count": 2,
     "metadata": {},
     "output_type": "execute_result"
    }
   ],
   "source": [
    "function(l)"
   ]
  },
  {
   "cell_type": "markdown",
   "id": "5072c0b4-f017-496f-831e-30de089e5fcd",
   "metadata": {},
   "source": [
    "## Q2. Why *args and **kwargs is used in some functions? Create a function each for *args and **kwargs to demonstrate their use."
   ]
  },
  {
   "cell_type": "code",
   "execution_count": 3,
   "id": "04f7b958-12e9-4bb2-84aa-ff233e645717",
   "metadata": {},
   "outputs": [],
   "source": [
    "\"\"\"The *args syntax allows you to pass a variable number of positional arguments to a function. \n",
    "These arguments are collected into a tuple within the function.\"\"\"\n",
    "l = [1,2,3]\n",
    "def single(*a):\n",
    "    return a"
   ]
  },
  {
   "cell_type": "code",
   "execution_count": 4,
   "id": "ac957cbd-d05c-4305-aa8e-77579e25b419",
   "metadata": {},
   "outputs": [
    {
     "data": {
      "text/plain": [
       "([1, 2, 3],)"
      ]
     },
     "execution_count": 4,
     "metadata": {},
     "output_type": "execute_result"
    }
   ],
   "source": [
    "single(l)"
   ]
  },
  {
   "cell_type": "code",
   "execution_count": 5,
   "id": "4931bd04-e8f5-4dae-adf5-556e02746e62",
   "metadata": {},
   "outputs": [],
   "source": [
    "\"\"\"The **kwargs syntax allows you to pass a variable number of keyword arguments to a function. \n",
    "These arguments are collected into a dictionary within the function.\"\"\"\n",
    "def double(**a):\n",
    "    return a"
   ]
  },
  {
   "cell_type": "code",
   "execution_count": 6,
   "id": "6966fa26-431f-4c39-ba7c-2bc7197756c8",
   "metadata": {},
   "outputs": [
    {
     "data": {
      "text/plain": [
       "{'a': 12, 'b': 'Vaish', 'c': [2, 3], 'd': True}"
      ]
     },
     "execution_count": 6,
     "metadata": {},
     "output_type": "execute_result"
    }
   ],
   "source": [
    "double(a = 12, b = \"Vaish\", c = [2,3], d = True)"
   ]
  },
  {
   "cell_type": "markdown",
   "id": "2d40db06-fe31-4537-80aa-72fc252a37a9",
   "metadata": {},
   "source": [
    "## Q3. What is an iterator in python? Name the method used to initialise the iterator object and the method used for iteration. Use these methods to print the first five elements of the given list [2, 4, 6, 8, 10, 12, 14, 16, 18, 20]."
   ]
  },
  {
   "cell_type": "code",
   "execution_count": 7,
   "id": "887bf276-f55b-4999-bead-4b4535332782",
   "metadata": {},
   "outputs": [],
   "source": [
    "l = [2, 4, 6, 8, 10, 12, 14, 16, 18, 20]\n",
    "a = iter(l)"
   ]
  },
  {
   "cell_type": "code",
   "execution_count": 8,
   "id": "7c6b4ff4-22f2-4270-97d7-2315970af405",
   "metadata": {},
   "outputs": [
    {
     "name": "stdout",
     "output_type": "stream",
     "text": [
      "2\n",
      "4\n",
      "6\n",
      "8\n",
      "10\n"
     ]
    }
   ],
   "source": [
    "for i in range(5):\n",
    "    element = next(a)\n",
    "    print(element)"
   ]
  },
  {
   "cell_type": "markdown",
   "id": "f1ca2b82-e857-4dd1-95bf-b3d711e753af",
   "metadata": {},
   "source": [
    "## Q4. What is a generator function in python? Why yield keyword is used? Give an example of a generator function."
   ]
  },
  {
   "cell_type": "markdown",
   "id": "124290e8-8dd9-4b18-b73a-a1cc76ece2cf",
   "metadata": {},
   "source": [
    "1] Generators are useful when we want to produce a large sequence of values, but we don't want to store all of them in memory at once."
   ]
  },
  {
   "cell_type": "markdown",
   "id": "bfaaf135-f4fc-4b29-b0ea-9701d18b2aa1",
   "metadata": {},
   "source": [
    "2]  In Python, similar to defining a normal function, we can define a generator function using the def keyword, but instead of the return statement we use the yield statement."
   ]
  },
  {
   "cell_type": "code",
   "execution_count": 9,
   "id": "b8ac44f2-c233-4dcc-b4ce-8c357125cc42",
   "metadata": {},
   "outputs": [],
   "source": [
    "def test(n):\n",
    "    value = 0\n",
    "    while value < n:\n",
    "        yield value\n",
    "        value += 1\n",
    "    for value in test(4):\n",
    "        print(value)"
   ]
  },
  {
   "cell_type": "code",
   "execution_count": 10,
   "id": "b9d7d86c-8f82-4d89-984a-fad449d2c8ac",
   "metadata": {},
   "outputs": [
    {
     "data": {
      "text/plain": [
       "<generator object test at 0x7fb2a270de00>"
      ]
     },
     "execution_count": 10,
     "metadata": {},
     "output_type": "execute_result"
    }
   ],
   "source": [
    "test(4)"
   ]
  },
  {
   "cell_type": "markdown",
   "id": "6a694728-3b81-492d-8569-83e359746212",
   "metadata": {},
   "source": [
    "## Q5. Create a generator function for prime numbers less than 1000. Use the next() method to print the first 20 prime numbers."
   ]
  },
  {
   "cell_type": "code",
   "execution_count": null,
   "id": "39159004-82d3-44de-90e7-2abf172cb6ba",
   "metadata": {},
   "outputs": [],
   "source": [
    "def is_prime(num):\n",
    "    if num <= 1:\n",
    "        return False\n",
    "    elif num <= 3:\n",
    "        return True\n",
    "    elif num % 2 == 0 or num % 3 == 0:\n",
    "        return False\n",
    "    i = 5\n",
    "    while i * i <= num:\n",
    "        if num % i == 0 or num % (i + 2) == 0:\n",
    "            return False\n",
    "        i += 6\n",
    "    return True\n",
    "\n",
    "def prime_generator():\n",
    "    num = 2\n",
    "    while num < 1000:\n",
    "        if is_prime(num):\n",
    "            yield num\n",
    "        num += 1\n",
    "\n",
    "# Use the generator to print the first 20 prime numbers\n",
    "prime_gen = prime_generator()\n",
    "for _ in range(20):\n",
    "    print(next(prime_gen))\n"
   ]
  },
  {
   "cell_type": "code",
   "execution_count": 4,
   "id": "5deaf983-84da-4de0-907b-745984827150",
   "metadata": {},
   "outputs": [],
   "source": [
    "def prime():\n",
    "    count = 1\n",
    "    num = 0\n",
    "    while num%2 == 0:\n",
    "        print(num)\n",
    "        count += 1"
   ]
  },
  {
   "cell_type": "code",
   "execution_count": null,
   "id": "25c75aa8-684c-4ba0-8583-3f30cc7f585a",
   "metadata": {},
   "outputs": [],
   "source": [
    "p = prime()\n",
    "for i in range(10):\n",
    "    print(next(p))"
   ]
  },
  {
   "cell_type": "markdown",
   "id": "179e65f2-8655-4220-b55f-b79369a841f1",
   "metadata": {},
   "source": [
    "## Q6. Write a python program to print the first 10 Fibonacci numbers using a while loop."
   ]
  },
  {
   "cell_type": "code",
   "execution_count": 1,
   "id": "476cc20e-b657-4cca-a56b-3c5d6e396c21",
   "metadata": {},
   "outputs": [],
   "source": [
    "def test_fib(n):\n",
    "    a,b = 0,1\n",
    "    count = 0\n",
    "    n = 10\n",
    "    while count < n:\n",
    "        print(a)\n",
    "        a,b = b, a+b    \n",
    "        count += 1"
   ]
  },
  {
   "cell_type": "code",
   "execution_count": 2,
   "id": "62d5dcf7-7904-4167-8a34-35f3c0728605",
   "metadata": {},
   "outputs": [
    {
     "name": "stdout",
     "output_type": "stream",
     "text": [
      "0\n",
      "1\n",
      "1\n",
      "2\n",
      "3\n",
      "5\n",
      "8\n",
      "13\n",
      "21\n",
      "34\n"
     ]
    }
   ],
   "source": [
    "test_fib(10)"
   ]
  },
  {
   "cell_type": "code",
   "execution_count": 3,
   "id": "7c91ae67-52e0-4310-9c4b-89563857fd62",
   "metadata": {},
   "outputs": [
    {
     "name": "stdout",
     "output_type": "stream",
     "text": [
      "0\n",
      "1\n",
      "1\n",
      "2\n",
      "3\n",
      "5\n",
      "8\n",
      "13\n",
      "21\n",
      "34\n"
     ]
    }
   ],
   "source": [
    "a, b = 0, 1\n",
    "count = 0\n",
    "n = 10\n",
    "while count < n:\n",
    "    print(a)  \n",
    "    a, b = b, a + b   \n",
    "    count += 1"
   ]
  },
  {
   "cell_type": "markdown",
   "id": "e9aa82b6-e850-4d47-9758-29e77e71bf07",
   "metadata": {},
   "source": [
    "## Q7. Write a List Comprehension to iterate through the given string: ‘pwskills’.Expected output: ['p', 'w', 's', 'k', 'i', 'l', 'l', 's']"
   ]
  },
  {
   "cell_type": "code",
   "execution_count": null,
   "id": "9387e97c-d6f6-441e-bd29-7747b6a41030",
   "metadata": {},
   "outputs": [],
   "source": [
    "s = 'pwskills'\n",
    "list(map(lambda s : s.upper() , s))"
   ]
  },
  {
   "cell_type": "markdown",
   "id": "01431e96-7de9-439b-9f95-84d3c303c9b0",
   "metadata": {},
   "source": [
    "## Q8. Write a python program to check whether a given number is Palindrome or not using a while loop."
   ]
  },
  {
   "cell_type": "code",
   "execution_count": 32,
   "id": "3a68cece-ca7c-420d-8d79-303f1e842861",
   "metadata": {},
   "outputs": [
    {
     "name": "stdin",
     "output_type": "stream",
     "text": [
      "Enter a number:  5005\n"
     ]
    },
    {
     "name": "stdout",
     "output_type": "stream",
     "text": [
      "5005 is a palindrome number.\n"
     ]
    }
   ],
   "source": [
    "def is_palindrome(number):\n",
    "    original_number = number  \n",
    "    reversed_number = 0  \n",
    "    while number > 0:\n",
    "       \n",
    "        digit = number % 10\n",
    "        \n",
    "      \n",
    "        reversed_number = reversed_number * 10 + digit\n",
    "        \n",
    "      \n",
    "        number = number // 10\n",
    "\n",
    "    return original_number == reversed_number\n",
    "\n",
    "\n",
    "number = int(input(\"Enter a number: \"))\n",
    "\n",
    "if is_palindrome(number):\n",
    "    print(f\"{number} is a palindrome number.\")\n",
    "else:\n",
    "    print(f\"{number} is not a palindrome number.\")\n"
   ]
  },
  {
   "cell_type": "markdown",
   "id": "818a9c78-aca0-4695-8aa5-30b88d6a8b4c",
   "metadata": {},
   "source": [
    "## Q9. Write a code to print odd numbers from 1 to 100 using list comprehension."
   ]
  },
  {
   "cell_type": "code",
   "execution_count": 43,
   "id": "36a4492f-ad0a-4232-8ade-98364b9a0ff3",
   "metadata": {},
   "outputs": [
    {
     "data": {
      "text/plain": [
       "[1,\n",
       " 3,\n",
       " 5,\n",
       " 7,\n",
       " 9,\n",
       " 11,\n",
       " 13,\n",
       " 15,\n",
       " 17,\n",
       " 19,\n",
       " 21,\n",
       " 23,\n",
       " 25,\n",
       " 27,\n",
       " 29,\n",
       " 31,\n",
       " 33,\n",
       " 35,\n",
       " 37,\n",
       " 39,\n",
       " 41,\n",
       " 43,\n",
       " 45,\n",
       " 47,\n",
       " 49,\n",
       " 51,\n",
       " 53,\n",
       " 55,\n",
       " 57,\n",
       " 59,\n",
       " 61,\n",
       " 63,\n",
       " 65,\n",
       " 67,\n",
       " 69,\n",
       " 71,\n",
       " 73,\n",
       " 75,\n",
       " 77,\n",
       " 79,\n",
       " 81,\n",
       " 83,\n",
       " 85,\n",
       " 87,\n",
       " 89,\n",
       " 91,\n",
       " 93,\n",
       " 95,\n",
       " 97,\n",
       " 99]"
      ]
     },
     "execution_count": 43,
     "metadata": {},
     "output_type": "execute_result"
    }
   ],
   "source": [
    "list(a for a in range (1,100) if a % 2 != 0)"
   ]
  },
  {
   "cell_type": "code",
   "execution_count": null,
   "id": "cd537f35-fdd3-4715-81c2-e22cd1a92ba9",
   "metadata": {},
   "outputs": [],
   "source": []
  }
 ],
 "metadata": {
  "kernelspec": {
   "display_name": "Python 3 (ipykernel)",
   "language": "python",
   "name": "python3"
  },
  "language_info": {
   "codemirror_mode": {
    "name": "ipython",
    "version": 3
   },
   "file_extension": ".py",
   "mimetype": "text/x-python",
   "name": "python",
   "nbconvert_exporter": "python",
   "pygments_lexer": "ipython3",
   "version": "3.10.8"
  }
 },
 "nbformat": 4,
 "nbformat_minor": 5
}
